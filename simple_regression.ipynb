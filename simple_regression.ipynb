{
 "cells": [
  {
   "cell_type": "code",
   "execution_count": 13,
   "id": "b19ae1f7",
   "metadata": {},
   "outputs": [
    {
     "name": "stdout",
     "output_type": "stream",
     "text": [
      "                            OLS Regression Results                            \n",
      "==============================================================================\n",
      "Dep. Variable:                      y   R-squared:                       0.996\n",
      "Model:                            OLS   Adj. R-squared:                  0.996\n",
      "Method:                 Least Squares   F-statistic:                 3.800e+04\n",
      "Date:                Thu, 11 Nov 2021   Prob (F-statistic):          2.55e-182\n",
      "Time:                        18:46:30   Log-Likelihood:                -1700.1\n",
      "No. Observations:                 152   AIC:                             3404.\n",
      "Df Residuals:                     150   BIC:                             3410.\n",
      "Df Model:                           1                                         \n",
      "Covariance Type:            nonrobust                                         \n",
      "==============================================================================\n",
      "                 coef    std err          t      P>|t|      [0.025      0.975]\n",
      "------------------------------------------------------------------------------\n",
      "const      -7696.6871   2339.432     -3.290      0.001   -1.23e+04   -3074.191\n",
      "x1             1.0618      0.005    194.942      0.000       1.051       1.073\n",
      "==============================================================================\n",
      "Omnibus:                       24.802   Durbin-Watson:                   2.003\n",
      "Prob(Omnibus):                  0.000   Jarque-Bera (JB):               51.904\n",
      "Skew:                          -0.710   Prob(JB):                     5.36e-12\n",
      "Kurtosis:                       5.486   Cond. No.                     7.06e+05\n",
      "==============================================================================\n",
      "\n",
      "Notes:\n",
      "[1] Standard Errors assume that the covariance matrix of the errors is correctly specified.\n",
      "[2] The condition number is large, 7.06e+05. This might indicate that there are\n",
      "strong multicollinearity or other numerical problems.\n",
      "\n",
      "gradient  = 1.0617632300230662\n",
      "intercept = -7696.687094312272\n",
      "Rsquared  = 0.9960683860300515\n",
      "MSE       = 307803864.1173112\n",
      "pvalue    = 2.5517021182318038e-182\n"
     ]
    },
    {
     "data": {
      "text/plain": [
       "Text(0.5, 1.0, 'Simple regresssion for 2008_pop_total and 2013_pop_total')"
      ]
     },
     "execution_count": 13,
     "metadata": {},
     "output_type": "execute_result"
    },
    {
     "data": {
      "image/png": "[encoded data removed]",
      "text/plain": [
       "<Figure size 504x504 with 1 Axes>"
      ]
     },
     "metadata": {
      "needs_background": "light"
     },
     "output_type": "display_data"
    }
   ],
   "source": [
    "# This program performs a linear regression from data stored in a csv file,\n",
    "# plots a scatter plot with line of best fit and saves it as a png image.\n",
    "\n",
    "# The data file must be two columns of numbers, the x values and y values - no column labels, etc.\n",
    "# It must be saved as a csv file (e.g. use \"Save As\" in Excel and choose csv format).\n",
    "# It must be saved in the same folder as this program.\n",
    "# See the file population_regression_data.csv for reference.\n",
    "\n",
    "# In the next line, replace sample_boxplot_data.csv with the filename of your data:\n",
    "data_filename = 'simple_regression.csv'\n",
    "\n",
    "# In the next line, replace boxplot with the filename you wish to save as:\n",
    "output_filename = 'regression_figure.png'\n",
    "\n",
    "# Use the next line to set figure height and width (experiment to check the scale):\n",
    "figure_width, figure_height = 7,7\n",
    "\n",
    "# You can ignore these two lines:\n",
    "import matplotlib.pyplot as plt\n",
    "import statsmodels.api as sms\n",
    "import numpy as np\n",
    "\n",
    "data = np.genfromtxt(data_filename,delimiter = ',')\n",
    "\n",
    "# If there are errors importing the data, you can also copy the data in as a list.\n",
    "# e.g. data = [1.95878982, 2.59203983, 1.22704688, ...]\n",
    "\n",
    "# These lines extract the y-values and the x-values from the data:\n",
    "x_values = data[:,0]\n",
    "y_values = data[:,1]\n",
    "\n",
    "# These lines perform the regression procedure:\n",
    "X_values = sms.add_constant(x_values)\n",
    "regression_model_a = sms.OLS(y_values, X_values)\n",
    "regression_model_b = regression_model_a.fit()\n",
    "# and print a summary of the results:\n",
    "print(regression_model_b.summary())\n",
    "print() # blank line\n",
    "\n",
    "# Now we store all the relevant values:\n",
    "gradient  = regression_model_b.params[1]\n",
    "intercept = regression_model_b.params[0]\n",
    "Rsquared  = regression_model_b.rsquared\n",
    "MSE       = regression_model_b.mse_resid\n",
    "pvalue    = regression_model_b.f_pvalue\n",
    "\n",
    "# And print them:\n",
    "print(\"gradient  =\", regression_model_b.params[1])\n",
    "print(\"intercept =\", regression_model_b.params[0])\n",
    "print(\"Rsquared  =\", regression_model_b.rsquared)\n",
    "print(\"MSE       =\", regression_model_b.mse_resid)\n",
    "print(\"pvalue    =\", regression_model_b.f_pvalue)\n",
    "\n",
    "# This line creates the endpoints of the best-fit line:\n",
    "x_lobf = [min(x_values),max(x_values)]\n",
    "y_lobf = [x_lobf[0]*gradient + intercept,x_lobf[1]*gradient + intercept]\n",
    "\n",
    "# This line creates the figure. \n",
    "plt.figure(figsize=(figure_width,figure_height))\n",
    "\n",
    "# Uncomment these lines to set the axis limits (otherwise they will be set automatically):\n",
    "#x_min,x_max = 0,5000000\n",
    "#y_min,y_max = 0,5000000\n",
    "#plt.xlim([x_min,x_max])\n",
    "#plt.ylim([y_min,y_max])\n",
    "\n",
    "# The next lines create and save the plot:\n",
    "plt.plot(x_values,y_values,'b.',x_lobf,y_lobf,'r--')\n",
    "plt.savefig(output_filename)\n",
    "plt.title('Simple regresssion for 2008_pop_total and 2013_pop_total')"
   ]
  },
  {
   "cell_type": "code",
   "execution_count": null,
   "id": "12542555",
   "metadata": {},
   "outputs": [],
   "source": []
  },
  {
   "cell_type": "code",
   "execution_count": null,
   "id": "89f6e659",
   "metadata": {},
   "outputs": [],
   "source": []
  }
 ],
 "metadata": {
  "kernelspec": {
   "display_name": "Python 3",
   "language": "python",
   "name": "python3"
  },
  "language_info": {
   "codemirror_mode": {
    "name": "ipython",
    "version": 3
   },
   "file_extension": ".py",
   "mimetype": "text/x-python",
   "name": "python",
   "nbconvert_exporter": "python",
   "pygments_lexer": "ipython3",
   "version": "3.8.8"
  }
 },
 "nbformat": 4,
 "nbformat_minor": 5
}
